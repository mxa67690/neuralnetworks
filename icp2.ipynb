{
  "nbformat": 4,
  "nbformat_minor": 0,
  "metadata": {
    "colab": {
      "provenance": [],
      "include_colab_link": true
    },
    "kernelspec": {
      "name": "python3",
      "display_name": "Python 3"
    },
    "language_info": {
      "name": "python"
    }
  },
  "cells": [
    {
      "cell_type": "markdown",
      "metadata": {
        "id": "view-in-github",
        "colab_type": "text"
      },
      "source": [
        "<a href=\"https://colab.research.google.com/github/mxa67690/neuralnetworks/blob/main/icp2.ipynb\" target=\"_parent\"><img src=\"https://colab.research.google.com/assets/colab-badge.svg\" alt=\"Open In Colab\"/></a>"
      ]
    },
    {
      "cell_type": "markdown",
      "source": [
        "ICP2\n",
        "MAHIDHAR REDDY ALLAMPATI\n",
        "700756769"
      ],
      "metadata": {
        "id": "XVHJV_Yfasvp"
      }
    },
    {
      "cell_type": "code",
      "execution_count": null,
      "metadata": {
        "id": "zPNtHauYJen8"
      },
      "outputs": [],
      "source": [
        "import numpy as np\n",
        "\n",
        "# Part 1: Class Programming\n",
        "class Employee:\n",
        "    # Class variable to count the number of employees\n",
        "    count = 0\n",
        "\n",
        "    def __init__(self, name, family, salary, department):\n",
        "        self.name = name\n",
        "        self.family = family\n",
        "        self.salary = salary\n",
        "        self.department = department\n",
        "        Employee.count += 1\n",
        "\n",
        "    @classmethod\n",
        "    def average_salary(cls, employees):\n",
        "        if not employees:\n",
        "            return 0\n",
        "        total_salary = sum(emp.salary for emp in employees)\n",
        "        return total_salary / len(employees)\n"
      ]
    },
    {
      "cell_type": "code",
      "source": [
        "\n",
        "# FulltimeEmployee class inheriting from Employee\n",
        "class FulltimeEmployee(Employee):\n",
        "    def __init__(self, name, family, salary, department):\n",
        "        super().__init__(name, family, salary, department)\n",
        "\n",
        "# Creating instances of Employee and FulltimeEmployee\n",
        "Emp1 = Employee(\"Jahnavi\", \"Mettu\", 50000, \"HR\")\n",
        "Emp2 = FulltimeEmployee(\"Mahi\", \"reddy\", 70000, \"IT\")\n",
        "Emp3 = FulltimeEmployee(\"vishnu\", \"reddy\", 80000, \"Finance\")\n",
        "\n",
        "# List of all employees\n",
        "Total_employees = [Emp1, Emp2, Emp3]"
      ],
      "metadata": {
        "id": "mzZrCKiUJf0C"
      },
      "execution_count": null,
      "outputs": []
    },
    {
      "cell_type": "code",
      "source": [
        "\n",
        "# Displaying employee details and average salary\n",
        "print(f\"Total Employees: {Employee.count}\")\n",
        "print(f\"Average Salary: {Employee.average_salary(Total_employees):.2f}\")\n",
        "\n"
      ],
      "metadata": {
        "colab": {
          "base_uri": "https://localhost:8080/"
        },
        "id": "cc82nz9RJjHg",
        "outputId": "4fc8e730-22b2-4aa3-eff8-ba6313cd0465"
      },
      "execution_count": null,
      "outputs": [
        {
          "output_type": "stream",
          "name": "stdout",
          "text": [
            "Total Employees: 3\n",
            "Average Salary: 66666.67\n"
          ]
        }
      ]
    },
    {
      "cell_type": "code",
      "source": [
        "# Part 2: Numpy Operations\n",
        "# Creating a random vector of size 20 with float values in the range 1-20 to make it uniformly random\n",
        "random_vector = np.random.uniform(1, 20, 20)\n",
        "\n",
        "# Reshaping the vector to a 4x5 matrix\n",
        "matrix = random_vector.reshape(4, 5)\n",
        "\n"
      ],
      "metadata": {
        "id": "WgJ-5YKqJlvz"
      },
      "execution_count": null,
      "outputs": []
    },
    {
      "cell_type": "code",
      "source": [
        "\n",
        "# Replacing the maximum value in each row with 0 without using a loop\n",
        "row_indices = np.arange(matrix.shape[0])\n",
        "# Using np.argmax along axis=1 to find indices of max values in each row\n",
        "col_indices = np.argmax(matrix, axis=1)\n",
        "matrix[row_indices, col_indices] = 0"
      ],
      "metadata": {
        "id": "EULEDA43Jp8N"
      },
      "execution_count": null,
      "outputs": []
    },
    {
      "cell_type": "code",
      "source": [
        "\n",
        "# Display the results\n",
        "print(\"\\nOriginal Random Vector:\")\n",
        "print(random_vector)\n",
        "print(\"\\n Now the Reshaped Matrix (4x5):\")\n",
        "print(matrix)"
      ],
      "metadata": {
        "colab": {
          "base_uri": "https://localhost:8080/"
        },
        "id": "uiY-Jld7Jrs6",
        "outputId": "b0621d3e-b655-41e3-9d11-f7d1046cbb77"
      },
      "execution_count": null,
      "outputs": [
        {
          "output_type": "stream",
          "name": "stdout",
          "text": [
            "\n",
            "Original Random Vector:\n",
            "[ 3.10397523  8.32759723  1.47602172  4.64821286  0.          4.3038521\n",
            " 17.63507335 19.73555547  0.          7.17849823  8.15593731 16.24775361\n",
            " 12.47978965  9.30304962  0.         15.92897372 11.76662675  0.\n",
            "  2.75767654 11.52813555]\n",
            "\n",
            " Now the Reshaped Matrix (4x5):\n",
            "[[ 3.10397523  8.32759723  1.47602172  4.64821286  0.        ]\n",
            " [ 4.3038521  17.63507335 19.73555547  0.          7.17849823]\n",
            " [ 8.15593731 16.24775361 12.47978965  9.30304962  0.        ]\n",
            " [15.92897372 11.76662675  0.          2.75767654 11.52813555]]\n"
          ]
        }
      ]
    },
    {
      "cell_type": "code",
      "source": [],
      "metadata": {
        "id": "yAkF_DjAJuz-"
      },
      "execution_count": null,
      "outputs": []
    },
    {
      "cell_type": "markdown",
      "source": [
        "https://drive.google.com/file/d/1i2eMdXGMeGzOhpyqOxjF_fmo8hRE6qWn/view?usp=share_link"
      ],
      "metadata": {
        "id": "pXWWlBpMa-OM"
      }
    }
  ]
}